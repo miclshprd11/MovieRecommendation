{
 "cells": [
  {
   "cell_type": "markdown",
   "id": "54e1f5bd",
   "metadata": {},
   "source": [
    "Hybrid recomendation system that uses SVD and slope one algorithims trained to predict each users rating of each movie using\n",
    "a dataset consisting of the users ratings of each movie. \n",
    "The data is derived from the MovieLens data [here](https://grouplens.org/datasets/movielens/).  A smaller sample has been culled so the processing is faster, but the data is user reviews of different movies.  We have information on the user, movie, and the associated ratings when they exist."\n",
    "This code uses the SUPRISE library made by scikit for recommendation systems. "
   ]
  },
  {
   "cell_type": "code",
   "execution_count": 44,
   "id": "2c378fb7",
   "metadata": {},
   "outputs": [],
   "source": [
    "import pandas as pd\n",
    "from surprise import Reader, SVD, Dataset, NormalPredictor, KNNBasic, SlopeOne\n",
    "from surprise.model_selection import cross_validate"
   ]
  },
  {
   "cell_type": "code",
   "execution_count": 45,
   "id": "fac704db",
   "metadata": {},
   "outputs": [
    {
     "data": {
      "text/html": [
       "<div>\n",
       "<style scoped>\n",
       "    .dataframe tbody tr th:only-of-type {\n",
       "        vertical-align: middle;\n",
       "    }\n",
       "\n",
       "    .dataframe tbody tr th {\n",
       "        vertical-align: top;\n",
       "    }\n",
       "\n",
       "    .dataframe thead th {\n",
       "        text-align: right;\n",
       "    }\n",
       "</style>\n",
       "<table border=\"1\" class=\"dataframe\">\n",
       "  <thead>\n",
       "    <tr style=\"text-align: right;\">\n",
       "      <th></th>\n",
       "      <th>movieId</th>\n",
       "      <th>title</th>\n",
       "      <th>userId</th>\n",
       "      <th>rating</th>\n",
       "    </tr>\n",
       "  </thead>\n",
       "  <tbody>\n",
       "    <tr>\n",
       "      <th>0</th>\n",
       "      <td>1</td>\n",
       "      <td>Toy Story (1995)</td>\n",
       "      <td>1</td>\n",
       "      <td>4.0</td>\n",
       "    </tr>\n",
       "    <tr>\n",
       "      <th>1</th>\n",
       "      <td>1</td>\n",
       "      <td>Toy Story (1995)</td>\n",
       "      <td>5</td>\n",
       "      <td>4.0</td>\n",
       "    </tr>\n",
       "    <tr>\n",
       "      <th>2</th>\n",
       "      <td>1</td>\n",
       "      <td>Toy Story (1995)</td>\n",
       "      <td>7</td>\n",
       "      <td>4.5</td>\n",
       "    </tr>\n",
       "    <tr>\n",
       "      <th>3</th>\n",
       "      <td>1</td>\n",
       "      <td>Toy Story (1995)</td>\n",
       "      <td>15</td>\n",
       "      <td>2.5</td>\n",
       "    </tr>\n",
       "    <tr>\n",
       "      <th>4</th>\n",
       "      <td>1</td>\n",
       "      <td>Toy Story (1995)</td>\n",
       "      <td>17</td>\n",
       "      <td>4.5</td>\n",
       "    </tr>\n",
       "  </tbody>\n",
       "</table>\n",
       "</div>"
      ],
      "text/plain": [
       "   movieId             title  userId  rating\n",
       "0        1  Toy Story (1995)       1     4.0\n",
       "1        1  Toy Story (1995)       5     4.0\n",
       "2        1  Toy Story (1995)       7     4.5\n",
       "3        1  Toy Story (1995)      15     2.5\n",
       "4        1  Toy Story (1995)      17     4.5"
      ]
     },
     "execution_count": 45,
     "metadata": {},
     "output_type": "execute_result"
    }
   ],
   "source": [
    "df = pd.read_csv('C:/Users/micls/OneDrive/Desktop/ML Projects/movie_ratings.csv', index_col=0)\n",
    "df.head()"
   ]
  },
  {
   "cell_type": "code",
   "execution_count": 46,
   "id": "d3635aa3",
   "metadata": {},
   "outputs": [
    {
     "name": "stdout",
     "output_type": "stream",
     "text": [
      "<class 'surprise.trainset.Trainset'>\n",
      "<class 'list'>\n"
     ]
    }
   ],
   "source": [
    "reader = Reader(line_format='item user rating')\n",
    "data = Dataset.load_from_df(df[['title', 'userId', 'rating']], reader)\n",
    "train = data.build_full_trainset()\n",
    "test = train.build_testset()\n",
    "print(type(train))\n",
    "print(type(test))"
   ]
  },
  {
   "cell_type": "code",
   "execution_count": 47,
   "id": "4d533dfb",
   "metadata": {},
   "outputs": [
    {
     "name": "stdout",
     "output_type": "stream",
     "text": [
      "[Prediction(uid='Toy Story (1995)', iid=1, r_ui=4.0, est=4.402273922317781, details={'was_impossible': False}), Prediction(uid='Toy Story (1995)', iid=5, r_ui=4.0, est=4.03204694074919, details={'was_impossible': False}), Prediction(uid='Toy Story (1995)', iid=7, r_ui=4.5, est=4.1184783390134, details={'was_impossible': False}), Prediction(uid='Toy Story (1995)', iid=15, r_ui=2.5, est=3.298923822257094, details={'was_impossible': False}), Prediction(uid='Toy Story (1995)', iid=17, r_ui=4.5, est=4.191087116406786, details={'was_impossible': False})]\n"
     ]
    }
   ],
   "source": [
    "svd = SVD(random_state = 42)\n",
    "svd.fit(train)\n",
    "svd_preds = svd.test(test)\n",
    "print(svd_preds[:5])"
   ]
  },
  {
   "cell_type": "code",
   "execution_count": 48,
   "id": "130f3d5e",
   "metadata": {},
   "outputs": [],
   "source": [
    "slope_one = SlopeOne()\n",
    "slope_one.fit(train)\n",
    "slope_one_preds = slope_one.test(test)"
   ]
  },
  {
   "cell_type": "code",
   "execution_count": 49,
   "id": "f8a6d08f",
   "metadata": {},
   "outputs": [
    {
     "data": {
      "text/plain": [
       "[4.482523851282691,\n",
       " 3.9542418064677056,\n",
       " 3.942570000399418,\n",
       " 3.42515299651303,\n",
       " 4.152070255438248]"
      ]
     },
     "execution_count": 49,
     "metadata": {},
     "output_type": "execute_result"
    }
   ],
   "source": [
    "hybrid_preds = [0.5*i.est + 0.5*j.est for i,j in zip(slope_one_preds, svd_preds)]\n",
    "hybrid_preds[:5]"
   ]
  },
  {
   "cell_type": "code",
   "execution_count": 50,
   "id": "20639579",
   "metadata": {},
   "outputs": [
    {
     "data": {
      "text/html": [
       "<div>\n",
       "<style scoped>\n",
       "    .dataframe tbody tr th:only-of-type {\n",
       "        vertical-align: middle;\n",
       "    }\n",
       "\n",
       "    .dataframe tbody tr th {\n",
       "        vertical-align: top;\n",
       "    }\n",
       "\n",
       "    .dataframe thead th {\n",
       "        text-align: right;\n",
       "    }\n",
       "</style>\n",
       "<table border=\"1\" class=\"dataframe\">\n",
       "  <thead>\n",
       "    <tr style=\"text-align: right;\">\n",
       "      <th></th>\n",
       "      <th>user_id</th>\n",
       "      <th>title</th>\n",
       "      <th>hybrid_rating</th>\n",
       "      <th>svd_rating</th>\n",
       "      <th>slope_one_rating</th>\n",
       "    </tr>\n",
       "  </thead>\n",
       "  <tbody>\n",
       "    <tr>\n",
       "      <th>0</th>\n",
       "      <td>1</td>\n",
       "      <td>Toy Story (1995)</td>\n",
       "      <td>4.482524</td>\n",
       "      <td>4.402274</td>\n",
       "      <td>4.562774</td>\n",
       "    </tr>\n",
       "    <tr>\n",
       "      <th>1</th>\n",
       "      <td>5</td>\n",
       "      <td>Toy Story (1995)</td>\n",
       "      <td>3.954242</td>\n",
       "      <td>4.032047</td>\n",
       "      <td>3.876437</td>\n",
       "    </tr>\n",
       "    <tr>\n",
       "      <th>2</th>\n",
       "      <td>7</td>\n",
       "      <td>Toy Story (1995)</td>\n",
       "      <td>3.942570</td>\n",
       "      <td>4.118478</td>\n",
       "      <td>3.766662</td>\n",
       "    </tr>\n",
       "    <tr>\n",
       "      <th>3</th>\n",
       "      <td>15</td>\n",
       "      <td>Toy Story (1995)</td>\n",
       "      <td>3.425153</td>\n",
       "      <td>3.298924</td>\n",
       "      <td>3.551382</td>\n",
       "    </tr>\n",
       "    <tr>\n",
       "      <th>4</th>\n",
       "      <td>17</td>\n",
       "      <td>Toy Story (1995)</td>\n",
       "      <td>4.152070</td>\n",
       "      <td>4.191087</td>\n",
       "      <td>4.113053</td>\n",
       "    </tr>\n",
       "    <tr>\n",
       "      <th>...</th>\n",
       "      <td>...</td>\n",
       "      <td>...</td>\n",
       "      <td>...</td>\n",
       "      <td>...</td>\n",
       "      <td>...</td>\n",
       "    </tr>\n",
       "    <tr>\n",
       "      <th>100831</th>\n",
       "      <td>184</td>\n",
       "      <td>Black Butler: Book of the Atlantic (2017)</td>\n",
       "      <td>3.831010</td>\n",
       "      <td>3.662021</td>\n",
       "      <td>4.000000</td>\n",
       "    </tr>\n",
       "    <tr>\n",
       "      <th>100832</th>\n",
       "      <td>184</td>\n",
       "      <td>No Game No Life: Zero (2017)</td>\n",
       "      <td>3.499179</td>\n",
       "      <td>3.498359</td>\n",
       "      <td>3.500000</td>\n",
       "    </tr>\n",
       "    <tr>\n",
       "      <th>100833</th>\n",
       "      <td>184</td>\n",
       "      <td>Flint (2017)</td>\n",
       "      <td>3.499840</td>\n",
       "      <td>3.499681</td>\n",
       "      <td>3.500000</td>\n",
       "    </tr>\n",
       "    <tr>\n",
       "      <th>100834</th>\n",
       "      <td>184</td>\n",
       "      <td>Bungo Stray Dogs: Dead Apple (2018)</td>\n",
       "      <td>3.568257</td>\n",
       "      <td>3.636515</td>\n",
       "      <td>3.500000</td>\n",
       "    </tr>\n",
       "    <tr>\n",
       "      <th>100835</th>\n",
       "      <td>331</td>\n",
       "      <td>Andrew Dice Clay: Dice Rules (1991)</td>\n",
       "      <td>3.699517</td>\n",
       "      <td>3.399033</td>\n",
       "      <td>4.000000</td>\n",
       "    </tr>\n",
       "  </tbody>\n",
       "</table>\n",
       "<p>100836 rows × 5 columns</p>\n",
       "</div>"
      ],
      "text/plain": [
       "        user_id                                      title  hybrid_rating  \\\n",
       "0             1                           Toy Story (1995)       4.482524   \n",
       "1             5                           Toy Story (1995)       3.954242   \n",
       "2             7                           Toy Story (1995)       3.942570   \n",
       "3            15                           Toy Story (1995)       3.425153   \n",
       "4            17                           Toy Story (1995)       4.152070   \n",
       "...         ...                                        ...            ...   \n",
       "100831      184  Black Butler: Book of the Atlantic (2017)       3.831010   \n",
       "100832      184               No Game No Life: Zero (2017)       3.499179   \n",
       "100833      184                               Flint (2017)       3.499840   \n",
       "100834      184        Bungo Stray Dogs: Dead Apple (2018)       3.568257   \n",
       "100835      331        Andrew Dice Clay: Dice Rules (1991)       3.699517   \n",
       "\n",
       "        svd_rating  slope_one_rating  \n",
       "0         4.402274          4.562774  \n",
       "1         4.032047          3.876437  \n",
       "2         4.118478          3.766662  \n",
       "3         3.298924          3.551382  \n",
       "4         4.191087          4.113053  \n",
       "...            ...               ...  \n",
       "100831    3.662021          4.000000  \n",
       "100832    3.498359          3.500000  \n",
       "100833    3.499681          3.500000  \n",
       "100834    3.636515          3.500000  \n",
       "100835    3.399033          4.000000  \n",
       "\n",
       "[100836 rows x 5 columns]"
      ]
     },
     "execution_count": 50,
     "metadata": {},
     "output_type": "execute_result"
    }
   ],
   "source": [
    "data1 = {'user_id': [i.iid for i in slope_one_preds],'title': [i.uid for i in slope_one_preds],'hybrid_rating': hybrid_preds, 'svd_rating': [i.est for i in svd_preds],'slope_one_rating': [i.est for i in slope_one_preds]}\n",
    "\n",
    "hybrid_df = pd.DataFrame(data1)\n",
    "hybrid_df\n",
    "#hybrid_df.value_counts('user_id')"
   ]
  },
  {
   "cell_type": "markdown",
   "id": "efc1a9f7",
   "metadata": {},
   "source": [
    "# Top 10 movies for user 5"
   ]
  },
  {
   "cell_type": "code",
   "execution_count": 51,
   "id": "c7c33461",
   "metadata": {},
   "outputs": [
    {
     "data": {
      "text/html": [
       "<div>\n",
       "<style scoped>\n",
       "    .dataframe tbody tr th:only-of-type {\n",
       "        vertical-align: middle;\n",
       "    }\n",
       "\n",
       "    .dataframe tbody tr th {\n",
       "        vertical-align: top;\n",
       "    }\n",
       "\n",
       "    .dataframe thead th {\n",
       "        text-align: right;\n",
       "    }\n",
       "</style>\n",
       "<table border=\"1\" class=\"dataframe\">\n",
       "  <thead>\n",
       "    <tr style=\"text-align: right;\">\n",
       "      <th></th>\n",
       "      <th>user_id</th>\n",
       "      <th>title</th>\n",
       "      <th>hybrid_rating</th>\n",
       "      <th>svd_rating</th>\n",
       "      <th>slope_one_rating</th>\n",
       "    </tr>\n",
       "  </thead>\n",
       "  <tbody>\n",
       "    <tr>\n",
       "      <th>7862</th>\n",
       "      <td>5</td>\n",
       "      <td>Pulp Fiction (1994)</td>\n",
       "      <td>4.323053</td>\n",
       "      <td>4.493283</td>\n",
       "      <td>4.152824</td>\n",
       "    </tr>\n",
       "    <tr>\n",
       "      <th>6565</th>\n",
       "      <td>5</td>\n",
       "      <td>Heavenly Creatures (1994)</td>\n",
       "      <td>4.293217</td>\n",
       "      <td>4.356554</td>\n",
       "      <td>4.229881</td>\n",
       "    </tr>\n",
       "    <tr>\n",
       "      <th>14108</th>\n",
       "      <td>5</td>\n",
       "      <td>Schindler's List (1993)</td>\n",
       "      <td>4.252048</td>\n",
       "      <td>4.263717</td>\n",
       "      <td>4.240379</td>\n",
       "    </tr>\n",
       "    <tr>\n",
       "      <th>13038</th>\n",
       "      <td>5</td>\n",
       "      <td>In the Name of the Father (1993)</td>\n",
       "      <td>4.182187</td>\n",
       "      <td>4.123657</td>\n",
       "      <td>4.240718</td>\n",
       "    </tr>\n",
       "    <tr>\n",
       "      <th>8653</th>\n",
       "      <td>5</td>\n",
       "      <td>Shawshank Redemption, The (1994)</td>\n",
       "      <td>4.161537</td>\n",
       "      <td>4.107668</td>\n",
       "      <td>4.215406</td>\n",
       "    </tr>\n",
       "    <tr>\n",
       "      <th>2380</th>\n",
       "      <td>5</td>\n",
       "      <td>Usual Suspects, The (1995)</td>\n",
       "      <td>4.128384</td>\n",
       "      <td>4.141275</td>\n",
       "      <td>4.115493</td>\n",
       "    </tr>\n",
       "    <tr>\n",
       "      <th>2626</th>\n",
       "      <td>5</td>\n",
       "      <td>Postman, The (Postino, Il) (1994)</td>\n",
       "      <td>4.106329</td>\n",
       "      <td>4.186064</td>\n",
       "      <td>4.026594</td>\n",
       "    </tr>\n",
       "    <tr>\n",
       "      <th>7606</th>\n",
       "      <td>5</td>\n",
       "      <td>Once Were Warriors (1994)</td>\n",
       "      <td>3.996855</td>\n",
       "      <td>4.014234</td>\n",
       "      <td>3.979476</td>\n",
       "    </tr>\n",
       "    <tr>\n",
       "      <th>16954</th>\n",
       "      <td>5</td>\n",
       "      <td>Fargo (1996)</td>\n",
       "      <td>3.979912</td>\n",
       "      <td>3.951820</td>\n",
       "      <td>4.008003</td>\n",
       "    </tr>\n",
       "    <tr>\n",
       "      <th>1</th>\n",
       "      <td>5</td>\n",
       "      <td>Toy Story (1995)</td>\n",
       "      <td>3.954242</td>\n",
       "      <td>4.032047</td>\n",
       "      <td>3.876437</td>\n",
       "    </tr>\n",
       "  </tbody>\n",
       "</table>\n",
       "</div>"
      ],
      "text/plain": [
       "       user_id                              title  hybrid_rating  svd_rating  \\\n",
       "7862         5                Pulp Fiction (1994)       4.323053    4.493283   \n",
       "6565         5          Heavenly Creatures (1994)       4.293217    4.356554   \n",
       "14108        5            Schindler's List (1993)       4.252048    4.263717   \n",
       "13038        5   In the Name of the Father (1993)       4.182187    4.123657   \n",
       "8653         5   Shawshank Redemption, The (1994)       4.161537    4.107668   \n",
       "2380         5         Usual Suspects, The (1995)       4.128384    4.141275   \n",
       "2626         5  Postman, The (Postino, Il) (1994)       4.106329    4.186064   \n",
       "7606         5          Once Were Warriors (1994)       3.996855    4.014234   \n",
       "16954        5                       Fargo (1996)       3.979912    3.951820   \n",
       "1            5                   Toy Story (1995)       3.954242    4.032047   \n",
       "\n",
       "       slope_one_rating  \n",
       "7862           4.152824  \n",
       "6565           4.229881  \n",
       "14108          4.240379  \n",
       "13038          4.240718  \n",
       "8653           4.215406  \n",
       "2380           4.115493  \n",
       "2626           4.026594  \n",
       "7606           3.979476  \n",
       "16954          4.008003  \n",
       "1              3.876437  "
      ]
     },
     "execution_count": 51,
     "metadata": {},
     "output_type": "execute_result"
    }
   ],
   "source": [
    "filtered_df = hybrid_df[hybrid_df['user_id'] == 5]\n",
    "filtered_df = filtered_df.sort_values(by='hybrid_rating', ascending=False)\n",
    "\n",
    "# Display the first 10 rows of the filtered DataFrame, the best recs for user 5.\n",
    "filtered_df.head(10)"
   ]
  },
  {
   "cell_type": "markdown",
   "id": "f8000c02",
   "metadata": {},
   "source": [
    "# Top 5 rated movies"
   ]
  },
  {
   "cell_type": "code",
   "execution_count": 52,
   "id": "71b405ef",
   "metadata": {},
   "outputs": [
    {
     "data": {
      "text/plain": [
       "title\n",
       "Buzzard (2015)             4.940114\n",
       "Girls About Town (1931)    4.914166\n",
       "World of Glory (1991)      4.913459\n",
       "Happy Feet Two (2011)      4.893720\n",
       "Calcium Kid, The (2004)    4.880396\n",
       "Name: hybrid_rating, dtype: float64"
      ]
     },
     "execution_count": 52,
     "metadata": {},
     "output_type": "execute_result"
    }
   ],
   "source": [
    "grouped_df = hybrid_df.groupby('title')['hybrid_rating'].mean()\n",
    "top_5_movies = grouped_df.sort_values(ascending=False).head(5)\n",
    "top_5_movies"
   ]
  },
  {
   "cell_type": "markdown",
   "id": "96efc8fd",
   "metadata": {},
   "source": [
    "# Top 10 movies for user 7 that are not in the top 5 highest rated overall"
   ]
  },
  {
   "cell_type": "code",
   "execution_count": 53,
   "id": "19a87a15",
   "metadata": {},
   "outputs": [
    {
     "data": {
      "text/html": [
       "<div>\n",
       "<style scoped>\n",
       "    .dataframe tbody tr th:only-of-type {\n",
       "        vertical-align: middle;\n",
       "    }\n",
       "\n",
       "    .dataframe tbody tr th {\n",
       "        vertical-align: top;\n",
       "    }\n",
       "\n",
       "    .dataframe thead th {\n",
       "        text-align: right;\n",
       "    }\n",
       "</style>\n",
       "<table border=\"1\" class=\"dataframe\">\n",
       "  <thead>\n",
       "    <tr style=\"text-align: right;\">\n",
       "      <th></th>\n",
       "      <th>user_id</th>\n",
       "      <th>title</th>\n",
       "      <th>hybrid_rating</th>\n",
       "      <th>svd_rating</th>\n",
       "      <th>slope_one_rating</th>\n",
       "    </tr>\n",
       "  </thead>\n",
       "  <tbody>\n",
       "    <tr>\n",
       "      <th>6855</th>\n",
       "      <td>7</td>\n",
       "      <td>Star Wars: Episode IV - A New Hope (1977)</td>\n",
       "      <td>4.439022</td>\n",
       "      <td>4.797081</td>\n",
       "      <td>4.080963</td>\n",
       "    </tr>\n",
       "    <tr>\n",
       "      <th>24646</th>\n",
       "      <td>7</td>\n",
       "      <td>Star Wars: Episode V - The Empire Strikes Back...</td>\n",
       "      <td>4.164272</td>\n",
       "      <td>4.278348</td>\n",
       "      <td>4.050197</td>\n",
       "    </tr>\n",
       "    <tr>\n",
       "      <th>16231</th>\n",
       "      <td>7</td>\n",
       "      <td>Silence of the Lambs, The (1991)</td>\n",
       "      <td>4.160863</td>\n",
       "      <td>4.258552</td>\n",
       "      <td>4.063174</td>\n",
       "    </tr>\n",
       "    <tr>\n",
       "      <th>26461</th>\n",
       "      <td>7</td>\n",
       "      <td>Psycho (1960)</td>\n",
       "      <td>4.153245</td>\n",
       "      <td>4.252560</td>\n",
       "      <td>4.053931</td>\n",
       "    </tr>\n",
       "    <tr>\n",
       "      <th>67968</th>\n",
       "      <td>7</td>\n",
       "      <td>Spirited Away (Sen to Chihiro no kamikakushi) ...</td>\n",
       "      <td>4.139336</td>\n",
       "      <td>4.189645</td>\n",
       "      <td>4.089027</td>\n",
       "    </tr>\n",
       "  </tbody>\n",
       "</table>\n",
       "</div>"
      ],
      "text/plain": [
       "       user_id                                              title  \\\n",
       "6855         7          Star Wars: Episode IV - A New Hope (1977)   \n",
       "24646        7  Star Wars: Episode V - The Empire Strikes Back...   \n",
       "16231        7                   Silence of the Lambs, The (1991)   \n",
       "26461        7                                      Psycho (1960)   \n",
       "67968        7  Spirited Away (Sen to Chihiro no kamikakushi) ...   \n",
       "\n",
       "       hybrid_rating  svd_rating  slope_one_rating  \n",
       "6855        4.439022    4.797081          4.080963  \n",
       "24646       4.164272    4.278348          4.050197  \n",
       "16231       4.160863    4.258552          4.063174  \n",
       "26461       4.153245    4.252560          4.053931  \n",
       "67968       4.139336    4.189645          4.089027  "
      ]
     },
     "execution_count": 53,
     "metadata": {},
     "output_type": "execute_result"
    }
   ],
   "source": [
    "result_df = hybrid_df[hybrid_df['user_id'] == 7].nlargest(5, 'hybrid_rating')[~hybrid_df[hybrid_df['user_id'] == 7].nlargest(5, 'hybrid_rating')['title'].isin(top_5_movies.index)]\n",
    "result_df"
   ]
  },
  {
   "cell_type": "markdown",
   "id": "2ce3366b",
   "metadata": {},
   "source": [
    "# Cross Validate"
   ]
  },
  {
   "cell_type": "code",
   "execution_count": 54,
   "id": "b49b1cf0",
   "metadata": {},
   "outputs": [
    {
     "name": "stdout",
     "output_type": "stream",
     "text": [
      "{'test_rmse': array([0.88635402, 0.88412873, 0.90139175, 0.88851197, 0.88476646]), 'fit_time': (0.09777307510375977, 0.10392546653747559, 0.09983944892883301, 0.09779167175292969, 0.09586071968078613), 'test_time': (0.5221903324127197, 0.38905835151672363, 0.3284475803375244, 0.32444000244140625, 0.3120241165161133)}\n"
     ]
    }
   ],
   "source": [
    "cross_val_results = cross_validate(slope_one, data, measures=['RMSE'])\n",
    "print(cross_val_results)"
   ]
  },
  {
   "cell_type": "code",
   "execution_count": null,
   "id": "7aa442fa",
   "metadata": {},
   "outputs": [],
   "source": []
  }
 ],
 "metadata": {
  "kernelspec": {
   "display_name": "Python 3 (ipykernel)",
   "language": "python",
   "name": "python3"
  },
  "language_info": {
   "codemirror_mode": {
    "name": "ipython",
    "version": 3
   },
   "file_extension": ".py",
   "mimetype": "text/x-python",
   "name": "python",
   "nbconvert_exporter": "python",
   "pygments_lexer": "ipython3",
   "version": "3.11.4"
  }
 },
 "nbformat": 4,
 "nbformat_minor": 5
}
